{
 "cells": [
  {
   "cell_type": "code",
   "execution_count": 1,
   "id": "1ee005fe",
   "metadata": {},
   "outputs": [],
   "source": [
    "import pandas as pd\n",
    "import matplotlib.pyplot as plt"
   ]
  },
  {
   "cell_type": "code",
   "execution_count": 5,
   "id": "d053c1ed",
   "metadata": {},
   "outputs": [
    {
     "data": {
      "text/html": [
       "<div>\n",
       "<style scoped>\n",
       "    .dataframe tbody tr th:only-of-type {\n",
       "        vertical-align: middle;\n",
       "    }\n",
       "\n",
       "    .dataframe tbody tr th {\n",
       "        vertical-align: top;\n",
       "    }\n",
       "\n",
       "    .dataframe thead th {\n",
       "        text-align: right;\n",
       "    }\n",
       "</style>\n",
       "<table border=\"1\" class=\"dataframe\">\n",
       "  <thead>\n",
       "    <tr style=\"text-align: right;\">\n",
       "      <th></th>\n",
       "      <th>Country</th>\n",
       "      <th>Region</th>\n",
       "      <th>Gender</th>\n",
       "      <th>Life Expectancy</th>\n",
       "      <th>Low Life Expectancy</th>\n",
       "      <th>High Life Expectancy</th>\n",
       "      <th>Year</th>\n",
       "    </tr>\n",
       "  </thead>\n",
       "  <tbody>\n",
       "    <tr>\n",
       "      <th>0</th>\n",
       "      <td>A</td>\n",
       "      <td>Asia</td>\n",
       "      <td>Male</td>\n",
       "      <td>70</td>\n",
       "      <td>60</td>\n",
       "      <td>80</td>\n",
       "      <td>2000</td>\n",
       "    </tr>\n",
       "    <tr>\n",
       "      <th>1</th>\n",
       "      <td>B</td>\n",
       "      <td>Europe</td>\n",
       "      <td>Female</td>\n",
       "      <td>80</td>\n",
       "      <td>70</td>\n",
       "      <td>90</td>\n",
       "      <td>2000</td>\n",
       "    </tr>\n",
       "    <tr>\n",
       "      <th>2</th>\n",
       "      <td>C</td>\n",
       "      <td>Asia</td>\n",
       "      <td>Male</td>\n",
       "      <td>65</td>\n",
       "      <td>50</td>\n",
       "      <td>75</td>\n",
       "      <td>2000</td>\n",
       "    </tr>\n",
       "    <tr>\n",
       "      <th>3</th>\n",
       "      <td>D</td>\n",
       "      <td>Europe</td>\n",
       "      <td>Female</td>\n",
       "      <td>85</td>\n",
       "      <td>75</td>\n",
       "      <td>95</td>\n",
       "      <td>2000</td>\n",
       "    </tr>\n",
       "    <tr>\n",
       "      <th>4</th>\n",
       "      <td>E</td>\n",
       "      <td>Africa</td>\n",
       "      <td>Male</td>\n",
       "      <td>60</td>\n",
       "      <td>55</td>\n",
       "      <td>65</td>\n",
       "      <td>2000</td>\n",
       "    </tr>\n",
       "  </tbody>\n",
       "</table>\n",
       "</div>"
      ],
      "text/plain": [
       "  Country  Region  Gender  Life Expectancy  Low Life Expectancy  \\\n",
       "0       A    Asia    Male               70                   60   \n",
       "1       B  Europe  Female               80                   70   \n",
       "2       C    Asia    Male               65                   50   \n",
       "3       D  Europe  Female               85                   75   \n",
       "4       E  Africa    Male               60                   55   \n",
       "\n",
       "   High Life Expectancy  Year  \n",
       "0                    80  2000  \n",
       "1                    90  2000  \n",
       "2                    75  2000  \n",
       "3                    95  2000  \n",
       "4                    65  2000  "
      ]
     },
     "execution_count": 5,
     "metadata": {},
     "output_type": "execute_result"
    }
   ],
   "source": [
    "data = {\n",
    "    \"Country\": [\"A\", \"B\", \"C\", \"D\", \"E\", \"F\", \"G\", \"H\", \"I\", \"J\"],\n",
    "    \"Region\": [\"Asia\", \"Europe\", \"Asia\", \"Europe\", \"Africa\", \"Africa\", \"Asia\", \"Europe\", \"Africa\", \"Europe\"],\n",
    "    \"Gender\": [\"Male\", \"Female\", \"Male\", \"Female\", \"Male\", \"Female\", \"Male\", \"Female\", \"Male\", \"Female\"],\n",
    "    \"Life Expectancy\": [70, 80, 65, 85, 60, 78, 72, 83, 58, 90],\n",
    "    \"Low Life Expectancy\": [60, 70, 50, 75, 55, 68, 62, 73, 50, 80],\n",
    "    \"High Life Expectancy\": [80, 90, 75, 95, 65, 88, 82, 93, 65, 100],\n",
    "    \"Year\": [2000, 2000, 2000, 2000, 2000, 2010, 2010, 2010, 2010, 2010]\n",
    "}\n",
    "\n",
    "df = pd.DataFrame(data)\n",
    "\n",
    "df.head()"
   ]
  },
  {
   "cell_type": "markdown",
   "id": "3b4dc486",
   "metadata": {},
   "source": [
    "### 1. Histogram"
   ]
  },
  {
   "cell_type": "code",
   "execution_count": 7,
   "id": "4dae519f",
   "metadata": {},
   "outputs": [
    {
     "data": {
      "image/png": "[encoded data removed]",
      "text/plain": [
       "<Figure size 500x300 with 1 Axes>"
      ]
     },
     "metadata": {},
     "output_type": "display_data"
    }
   ],
   "source": [
    "regions = df[\"Region\"].unique()\n",
    "plt.figure(figsize=(5, 3))\n",
    "for region in regions:\n",
    "    region_data = df[df[\"Region\"] == region][\"Life Expectancy\"]\n",
    "    plt.hist(region_data, alpha=0.1, label=region)\n",
    "\n",
    "plt.title(\"Histogram of Life Expectancy by Region\")\n",
    "plt.xlabel(\"Life Expectancy\")\n",
    "plt.ylabel(\"Frequency\")\n",
    "plt.legend()\n",
    "plt.show()"
   ]
  },
  {
   "cell_type": "code",
   "execution_count": null,
   "id": "d8ba8c51",
   "metadata": {},
   "outputs": [],
   "source": [
    "# 2. Scatter Plot of Life Expectancy Correlation\n",
    "low_life = df[\"Low Life Expectancy\"]\n",
    "high_life = df[\"High Life Expectancy\"]\n",
    "\n",
    "plt.figure(figsize=(8, 6))\n",
    "plt.scatter(low_life, high_life, alpha=0.7)\n",
    "plt.title(\"Scatter Plot of Low vs High Life Expectancy\")\n",
    "plt.xlabel(\"Low Life Expectancy\")\n",
    "plt.ylabel(\"High Life Expectancy\")\n",
    "plt.grid(True)\n",
    "plt.show()\n",
    "\n",
    "# 3. Bar Chart of Average Life Expectancy by Gender\n",
    "gender_mean = df.groupby(\"Gender\")[\"Life Expectancy\"].mean()\n",
    "\n",
    "plt.figure(figsize=(8, 6))\n",
    "plt.bar(gender_mean.index, gender_mean.values, color=[\"blue\", \"pink\"])\n",
    "plt.title(\"Average Life Expectancy by Gender\")\n",
    "plt.xlabel(\"Gender\")\n",
    "plt.ylabel(\"Average Life Expectancy\")\n",
    "plt.show()\n",
    "\n",
    "# 4. Boxplot for Outlier Detection\n",
    "plt.figure(figsize=(8, 6))\n",
    "plt.boxplot([df[df[\"Gender\"] == \"Male\"][\"Life Expectancy\"], \n",
    "             df[df[\"Gender\"] == \"Female\"][\"Life Expectancy\"]],\n",
    "            labels=[\"Male\", \"Female\"])\n",
    "plt.title(\"Boxplot of Life Expectancy by Gender\")\n",
    "plt.ylabel(\"Life Expectancy\")\n",
    "plt.show()\n",
    "\n",
    "# 5. Line Plot for Trends Over Time\n",
    "yearly_trend = df.groupby(\"Year\")[\"Life Expectancy\"].mean()\n",
    "\n",
    "plt.figure(figsize=(10, 6))\n",
    "plt.plot(yearly_trend.index, yearly_trend.values, marker='o')\n",
    "plt.title(\"Life Expectancy Trends Over Time\")\n",
    "plt.xlabel(\"Year\")\n",
    "plt.ylabel(\"Average Life Expectancy\")\n",
    "plt.grid(True)\n",
    "plt.show()\n"
   ]
  },
  {
   "cell_type": "code",
   "execution_count": null,
   "id": "bb071e46",
   "metadata": {},
   "outputs": [],
   "source": []
  }
 ],
 "metadata": {
  "kernelspec": {
   "display_name": "Python 3 (ipykernel)",
   "language": "python",
   "name": "python3"
  },
  "language_info": {
   "codemirror_mode": {
    "name": "ipython",
    "version": 3
   },
   "file_extension": ".py",
   "mimetype": "text/x-python",
   "name": "python",
   "nbconvert_exporter": "python",
   "pygments_lexer": "ipython3",
   "version": "3.7.0"
  }
 },
 "nbformat": 4,
 "nbformat_minor": 5
}
