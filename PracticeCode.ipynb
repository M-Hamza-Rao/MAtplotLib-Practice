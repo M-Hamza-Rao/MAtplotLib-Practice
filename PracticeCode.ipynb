{
 "cells": [
  {
   "cell_type": "code",
   "execution_count": null,
   "id": "1ee005fe",
   "metadata": {},
   "outputs": [],
   "source": [
    "#hello"
   ]
  },
  {
   "cell_type": "code",
   "execution_count": null,
   "id": "d8ba8c51",
   "metadata": {},
   "outputs": [],
   "source": [
    "#Preaparation\n",
    "input_file = 'data.csv'\n",
    "output_file = 'cleaned_data.csv'\n",
    "\n",
    "with open(input_file, 'r', encoding='utf-8') as f_in, open(output_file, 'w', encoding='utf-8') as f_out:\n",
    "    for line in f_in:\n",
    "        # Split by comma to count columns\n",
    "        columns = line.strip().split(',')\n",
    "        # Check if line has exactly 34 columns\n",
    "        if len(columns) == 34:\n",
    "            f_out.write(line)"
   ]
  }
 ],
 "metadata": {
  "kernelspec": {
   "display_name": "Python 3 (ipykernel)",
   "language": "python",
   "name": "python3"
  },
  "language_info": {
   "codemirror_mode": {
    "name": "ipython",
    "version": 3
   },
   "file_extension": ".py",
   "mimetype": "text/x-python",
   "name": "python",
   "nbconvert_exporter": "python",
   "pygments_lexer": "ipython3",
   "version": "3.7.0"
  }
 },
 "nbformat": 4,
 "nbformat_minor": 5
}
